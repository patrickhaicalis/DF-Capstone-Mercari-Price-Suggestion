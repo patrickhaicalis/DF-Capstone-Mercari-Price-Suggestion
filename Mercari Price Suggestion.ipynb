{
 "cells": [
  {
   "cell_type": "markdown",
   "id": "805902c4",
   "metadata": {},
   "source": [
    "## Mercari Price Suggestion"
   ]
  },
  {
   "cell_type": "markdown",
   "id": "2a7d3594",
   "metadata": {},
   "source": [
    "This notebook runs through our code for the Mercari Price Suggestion challenge, to suggest prices of products on the Mercari Marketplace."
   ]
  },
  {
   "cell_type": "code",
   "execution_count": 1,
   "id": "06184e98",
   "metadata": {},
   "outputs": [],
   "source": [
    "import numpy as np\n",
    "import seaborn as sns\n",
    "import matplotlib.pyplot as plt\n",
    "import pandas as pd\n",
    "import gc\n",
    "\n",
    "import re\n",
    "import nltk\n",
    "import string\n",
    "from sklearn.feature_extraction.text import TfidfVectorizer\n",
    "\n",
    "from sklearn import preprocessing\n",
    "from sklearn.preprocessing import LabelBinarizer\n",
    "import sklearn.metrics\n",
    "from sklearn.model_selection import train_test_split\n",
    "\n",
    "from sklearn.linear_model import LinearRegression\n",
    "from sklearn.linear_model import Ridge\n",
    "from sklearn.linear_model import RidgeCV\n",
    "from sklearn.linear_model import SGDRegressor\n",
    "from scipy.sparse import hstack\n",
    "\n",
    "pd.options.display.max_columns = None"
   ]
  },
  {
   "cell_type": "code",
   "execution_count": 2,
   "id": "7e8e6dda",
   "metadata": {},
   "outputs": [],
   "source": [
    "train = pd.read_csv('train.csv')\n",
    "test = pd.read_csv('test2.csv')\n",
    "\n",
    "#train.drop('train_id', axis=1, inplace=True)\n",
    "#test.drop('test_id', axis=1, inplace=True)"
   ]
  },
  {
   "cell_type": "code",
   "execution_count": 3,
   "id": "d405a5a7",
   "metadata": {},
   "outputs": [
    {
     "data": {
      "text/html": [
       "<div>\n",
       "<style scoped>\n",
       "    .dataframe tbody tr th:only-of-type {\n",
       "        vertical-align: middle;\n",
       "    }\n",
       "\n",
       "    .dataframe tbody tr th {\n",
       "        vertical-align: top;\n",
       "    }\n",
       "\n",
       "    .dataframe thead th {\n",
       "        text-align: right;\n",
       "    }\n",
       "</style>\n",
       "<table border=\"1\" class=\"dataframe\">\n",
       "  <thead>\n",
       "    <tr style=\"text-align: right;\">\n",
       "      <th></th>\n",
       "      <th>name</th>\n",
       "      <th>item_condition_id</th>\n",
       "      <th>category_name</th>\n",
       "      <th>brand_name</th>\n",
       "      <th>price</th>\n",
       "      <th>shipping</th>\n",
       "      <th>item_description</th>\n",
       "    </tr>\n",
       "  </thead>\n",
       "  <tbody>\n",
       "    <tr>\n",
       "      <th>0</th>\n",
       "      <td>MLB Cincinnati Reds T Shirt Size XL</td>\n",
       "      <td>3</td>\n",
       "      <td>Men/Tops/T-shirts</td>\n",
       "      <td>NaN</td>\n",
       "      <td>10.0</td>\n",
       "      <td>1</td>\n",
       "      <td>No description yet</td>\n",
       "    </tr>\n",
       "    <tr>\n",
       "      <th>1</th>\n",
       "      <td>Razer BlackWidow Chroma Keyboard</td>\n",
       "      <td>3</td>\n",
       "      <td>Electronics/Computers &amp; Tablets/Components &amp; P...</td>\n",
       "      <td>Razer</td>\n",
       "      <td>52.0</td>\n",
       "      <td>0</td>\n",
       "      <td>This keyboard is in great condition and works ...</td>\n",
       "    </tr>\n",
       "    <tr>\n",
       "      <th>2</th>\n",
       "      <td>AVA-VIV Blouse</td>\n",
       "      <td>1</td>\n",
       "      <td>Women/Tops &amp; Blouses/Blouse</td>\n",
       "      <td>Target</td>\n",
       "      <td>10.0</td>\n",
       "      <td>1</td>\n",
       "      <td>Adorable top with a hint of lace and a key hol...</td>\n",
       "    </tr>\n",
       "    <tr>\n",
       "      <th>3</th>\n",
       "      <td>Leather Horse Statues</td>\n",
       "      <td>1</td>\n",
       "      <td>Home/Home Décor/Home Décor Accents</td>\n",
       "      <td>NaN</td>\n",
       "      <td>35.0</td>\n",
       "      <td>1</td>\n",
       "      <td>New with tags. Leather horses. Retail for [rm]...</td>\n",
       "    </tr>\n",
       "    <tr>\n",
       "      <th>4</th>\n",
       "      <td>24K GOLD plated rose</td>\n",
       "      <td>1</td>\n",
       "      <td>Women/Jewelry/Necklaces</td>\n",
       "      <td>NaN</td>\n",
       "      <td>44.0</td>\n",
       "      <td>0</td>\n",
       "      <td>Complete with certificate of authenticity</td>\n",
       "    </tr>\n",
       "  </tbody>\n",
       "</table>\n",
       "</div>"
      ],
      "text/plain": [
       "                                  name  item_condition_id  \\\n",
       "0  MLB Cincinnati Reds T Shirt Size XL                  3   \n",
       "1     Razer BlackWidow Chroma Keyboard                  3   \n",
       "2                       AVA-VIV Blouse                  1   \n",
       "3                Leather Horse Statues                  1   \n",
       "4                 24K GOLD plated rose                  1   \n",
       "\n",
       "                                       category_name brand_name  price  \\\n",
       "0                                  Men/Tops/T-shirts        NaN   10.0   \n",
       "1  Electronics/Computers & Tablets/Components & P...      Razer   52.0   \n",
       "2                        Women/Tops & Blouses/Blouse     Target   10.0   \n",
       "3                 Home/Home Décor/Home Décor Accents        NaN   35.0   \n",
       "4                            Women/Jewelry/Necklaces        NaN   44.0   \n",
       "\n",
       "   shipping                                   item_description  \n",
       "0         1                                 No description yet  \n",
       "1         0  This keyboard is in great condition and works ...  \n",
       "2         1  Adorable top with a hint of lace and a key hol...  \n",
       "3         1  New with tags. Leather horses. Retail for [rm]...  \n",
       "4         0          Complete with certificate of authenticity  "
      ]
     },
     "execution_count": 3,
     "metadata": {},
     "output_type": "execute_result"
    }
   ],
   "source": [
    "train.head()"
   ]
  },
  {
   "cell_type": "code",
   "execution_count": 4,
   "id": "ce60cf09",
   "metadata": {},
   "outputs": [
    {
     "data": {
      "text/html": [
       "<div>\n",
       "<style scoped>\n",
       "    .dataframe tbody tr th:only-of-type {\n",
       "        vertical-align: middle;\n",
       "    }\n",
       "\n",
       "    .dataframe tbody tr th {\n",
       "        vertical-align: top;\n",
       "    }\n",
       "\n",
       "    .dataframe thead th {\n",
       "        text-align: right;\n",
       "    }\n",
       "</style>\n",
       "<table border=\"1\" class=\"dataframe\">\n",
       "  <thead>\n",
       "    <tr style=\"text-align: right;\">\n",
       "      <th></th>\n",
       "      <th>name</th>\n",
       "      <th>item_condition_id</th>\n",
       "      <th>category_name</th>\n",
       "      <th>brand_name</th>\n",
       "      <th>shipping</th>\n",
       "      <th>item_description</th>\n",
       "    </tr>\n",
       "  </thead>\n",
       "  <tbody>\n",
       "    <tr>\n",
       "      <th>0</th>\n",
       "      <td>Breast cancer \"I fight like a girl\" ring</td>\n",
       "      <td>1</td>\n",
       "      <td>Women/Jewelry/Rings</td>\n",
       "      <td>NaN</td>\n",
       "      <td>1</td>\n",
       "      <td>Size 7</td>\n",
       "    </tr>\n",
       "    <tr>\n",
       "      <th>1</th>\n",
       "      <td>25 pcs NEW 7.5\"x12\" Kraft Bubble Mailers</td>\n",
       "      <td>1</td>\n",
       "      <td>Other/Office supplies/Shipping Supplies</td>\n",
       "      <td>NaN</td>\n",
       "      <td>1</td>\n",
       "      <td>25 pcs NEW 7.5\"x12\" Kraft Bubble Mailers Lined...</td>\n",
       "    </tr>\n",
       "    <tr>\n",
       "      <th>2</th>\n",
       "      <td>Coach bag</td>\n",
       "      <td>1</td>\n",
       "      <td>Vintage &amp; Collectibles/Bags and Purses/Handbag</td>\n",
       "      <td>Coach</td>\n",
       "      <td>1</td>\n",
       "      <td>Brand new coach bag. Bought for [rm] at a Coac...</td>\n",
       "    </tr>\n",
       "    <tr>\n",
       "      <th>3</th>\n",
       "      <td>Floral Kimono</td>\n",
       "      <td>2</td>\n",
       "      <td>Women/Sweaters/Cardigan</td>\n",
       "      <td>NaN</td>\n",
       "      <td>0</td>\n",
       "      <td>-floral kimono -never worn -lightweight and pe...</td>\n",
       "    </tr>\n",
       "    <tr>\n",
       "      <th>4</th>\n",
       "      <td>Life after Death</td>\n",
       "      <td>3</td>\n",
       "      <td>Other/Books/Religion &amp; Spirituality</td>\n",
       "      <td>NaN</td>\n",
       "      <td>1</td>\n",
       "      <td>Rediscovering life after the loss of a loved o...</td>\n",
       "    </tr>\n",
       "  </tbody>\n",
       "</table>\n",
       "</div>"
      ],
      "text/plain": [
       "                                       name  item_condition_id  \\\n",
       "0  Breast cancer \"I fight like a girl\" ring                  1   \n",
       "1  25 pcs NEW 7.5\"x12\" Kraft Bubble Mailers                  1   \n",
       "2                                 Coach bag                  1   \n",
       "3                             Floral Kimono                  2   \n",
       "4                          Life after Death                  3   \n",
       "\n",
       "                                    category_name brand_name  shipping  \\\n",
       "0                             Women/Jewelry/Rings        NaN         1   \n",
       "1         Other/Office supplies/Shipping Supplies        NaN         1   \n",
       "2  Vintage & Collectibles/Bags and Purses/Handbag      Coach         1   \n",
       "3                         Women/Sweaters/Cardigan        NaN         0   \n",
       "4             Other/Books/Religion & Spirituality        NaN         1   \n",
       "\n",
       "                                    item_description  \n",
       "0                                             Size 7  \n",
       "1  25 pcs NEW 7.5\"x12\" Kraft Bubble Mailers Lined...  \n",
       "2  Brand new coach bag. Bought for [rm] at a Coac...  \n",
       "3  -floral kimono -never worn -lightweight and pe...  \n",
       "4  Rediscovering life after the loss of a loved o...  "
      ]
     },
     "execution_count": 4,
     "metadata": {},
     "output_type": "execute_result"
    }
   ],
   "source": [
    "test.head()"
   ]
  },
  {
   "cell_type": "code",
   "execution_count": 5,
   "id": "7b52482b",
   "metadata": {},
   "outputs": [
    {
     "name": "stdout",
     "output_type": "stream",
     "text": [
      "(1482535, 7)\n",
      "(3460725, 6)\n"
     ]
    }
   ],
   "source": [
    "# Checking the size of the training and test dataset\n",
    "print(train.shape)\n",
    "print(test.shape)"
   ]
  },
  {
   "cell_type": "code",
   "execution_count": 6,
   "id": "6ab5e430",
   "metadata": {},
   "outputs": [
    {
     "data": {
      "text/plain": [
       "name                  object\n",
       "item_condition_id      int64\n",
       "category_name         object\n",
       "brand_name            object\n",
       "price                float64\n",
       "shipping               int64\n",
       "item_description      object\n",
       "dtype: object"
      ]
     },
     "execution_count": 6,
     "metadata": {},
     "output_type": "execute_result"
    }
   ],
   "source": [
    "# Checking the different data types in the dataset\n",
    "train.dtypes"
   ]
  },
  {
   "cell_type": "markdown",
   "id": "d071b0fe",
   "metadata": {},
   "source": [
    "### Price"
   ]
  },
  {
   "cell_type": "code",
   "execution_count": 7,
   "id": "85faf38c",
   "metadata": {},
   "outputs": [
    {
     "data": {
      "text/plain": [
       "count    1.482535e+06\n",
       "mean     2.673752e+01\n",
       "std      3.858607e+01\n",
       "min      0.000000e+00\n",
       "25%      1.000000e+01\n",
       "50%      1.700000e+01\n",
       "75%      2.900000e+01\n",
       "max      2.009000e+03\n",
       "Name: price, dtype: float64"
      ]
     },
     "execution_count": 7,
     "metadata": {},
     "output_type": "execute_result"
    }
   ],
   "source": [
    "train.price.describe()"
   ]
  },
  {
   "cell_type": "code",
   "execution_count": 8,
   "id": "3311ec54",
   "metadata": {},
   "outputs": [
    {
     "data": {
      "image/png": "[encoded data removed]",
      "text/plain": [
       "<Figure size 1080x720 with 4 Axes>"
      ]
     },
     "metadata": {
      "needs_background": "light"
     },
     "output_type": "display_data"
    }
   ],
   "source": [
    "fig, ax = plt.subplots(2, 2, figsize=(15, 10))\n",
    "\n",
    "fig.suptitle(\"Distribution of Price vs Log Price\")\n",
    "ax1 = sns.histplot(train['price'], bins=100, ax=ax[0, 0])\n",
    "ax2 = sns.histplot(np.log1p(train['price']), bins=100, ax=ax[0, 1])\n",
    "ax3 = sns.boxplot(x=train['price'], ax=ax[1, 0])\n",
    "ax4 = sns.boxplot(x=np.log1p(train['price']), ax=ax[1, 1])\n",
    "\n",
    "ax1.title.set_text('Price Distribution')\n",
    "ax2.title.set_text('Log(Price) Distribution')\n",
    "ax3.title.set_text('Price Boxplot')\n",
    "ax4.title.set_text('Log(Price) Boxplot')\n",
    "\n",
    "plt.show()"
   ]
  },
  {
   "cell_type": "markdown",
   "id": "dc18e7d4",
   "metadata": {},
   "source": [
    "As the original price has such a skewed distribution, taking the logarithm of the price assists to create a normal distribution - so this is what I will be using."
   ]
  },
  {
   "cell_type": "code",
   "execution_count": 9,
   "id": "cb56055e",
   "metadata": {},
   "outputs": [],
   "source": [
    "train['price'] = np.log1p(train['price'])"
   ]
  },
  {
   "cell_type": "markdown",
   "id": "b2b782cf",
   "metadata": {},
   "source": [
    "### Categories"
   ]
  },
  {
   "cell_type": "code",
   "execution_count": 10,
   "id": "dcfd0637",
   "metadata": {},
   "outputs": [],
   "source": [
    "def split_cat(text):\n",
    "    \"\"\"Function to split the category_name column and deal with nulls\"\"\"\n",
    "    try:\n",
    "        return text.split(\"/\")\n",
    "    except:\n",
    "        return (\"No Label\", \"No Label\", \"No Label\")"
   ]
  },
  {
   "cell_type": "code",
   "execution_count": 11,
   "id": "061fa135",
   "metadata": {},
   "outputs": [],
   "source": [
    "train['category_name'] = train.category_name.apply(lambda x: split_cat(x))\n",
    "test['category_name'] = test.category_name.apply(lambda x: split_cat(x))"
   ]
  },
  {
   "cell_type": "code",
   "execution_count": 12,
   "id": "3d5c3ae0",
   "metadata": {},
   "outputs": [
    {
     "data": {
      "text/html": [
       "<div>\n",
       "<style scoped>\n",
       "    .dataframe tbody tr th:only-of-type {\n",
       "        vertical-align: middle;\n",
       "    }\n",
       "\n",
       "    .dataframe tbody tr th {\n",
       "        vertical-align: top;\n",
       "    }\n",
       "\n",
       "    .dataframe thead th {\n",
       "        text-align: right;\n",
       "    }\n",
       "</style>\n",
       "<table border=\"1\" class=\"dataframe\">\n",
       "  <thead>\n",
       "    <tr style=\"text-align: right;\">\n",
       "      <th></th>\n",
       "      <th>name</th>\n",
       "      <th>item_condition_id</th>\n",
       "      <th>category_name</th>\n",
       "      <th>brand_name</th>\n",
       "      <th>price</th>\n",
       "      <th>shipping</th>\n",
       "      <th>item_description</th>\n",
       "    </tr>\n",
       "  </thead>\n",
       "  <tbody>\n",
       "    <tr>\n",
       "      <th>0</th>\n",
       "      <td>MLB Cincinnati Reds T Shirt Size XL</td>\n",
       "      <td>3</td>\n",
       "      <td>[Men, Tops, T-shirts]</td>\n",
       "      <td>NaN</td>\n",
       "      <td>2.397895</td>\n",
       "      <td>1</td>\n",
       "      <td>No description yet</td>\n",
       "    </tr>\n",
       "    <tr>\n",
       "      <th>1</th>\n",
       "      <td>Razer BlackWidow Chroma Keyboard</td>\n",
       "      <td>3</td>\n",
       "      <td>[Electronics, Computers &amp; Tablets, Components ...</td>\n",
       "      <td>Razer</td>\n",
       "      <td>3.970292</td>\n",
       "      <td>0</td>\n",
       "      <td>This keyboard is in great condition and works ...</td>\n",
       "    </tr>\n",
       "    <tr>\n",
       "      <th>2</th>\n",
       "      <td>AVA-VIV Blouse</td>\n",
       "      <td>1</td>\n",
       "      <td>[Women, Tops &amp; Blouses, Blouse]</td>\n",
       "      <td>Target</td>\n",
       "      <td>2.397895</td>\n",
       "      <td>1</td>\n",
       "      <td>Adorable top with a hint of lace and a key hol...</td>\n",
       "    </tr>\n",
       "    <tr>\n",
       "      <th>3</th>\n",
       "      <td>Leather Horse Statues</td>\n",
       "      <td>1</td>\n",
       "      <td>[Home, Home Décor, Home Décor Accents]</td>\n",
       "      <td>NaN</td>\n",
       "      <td>3.583519</td>\n",
       "      <td>1</td>\n",
       "      <td>New with tags. Leather horses. Retail for [rm]...</td>\n",
       "    </tr>\n",
       "    <tr>\n",
       "      <th>4</th>\n",
       "      <td>24K GOLD plated rose</td>\n",
       "      <td>1</td>\n",
       "      <td>[Women, Jewelry, Necklaces]</td>\n",
       "      <td>NaN</td>\n",
       "      <td>3.806662</td>\n",
       "      <td>0</td>\n",
       "      <td>Complete with certificate of authenticity</td>\n",
       "    </tr>\n",
       "  </tbody>\n",
       "</table>\n",
       "</div>"
      ],
      "text/plain": [
       "                                  name  item_condition_id  \\\n",
       "0  MLB Cincinnati Reds T Shirt Size XL                  3   \n",
       "1     Razer BlackWidow Chroma Keyboard                  3   \n",
       "2                       AVA-VIV Blouse                  1   \n",
       "3                Leather Horse Statues                  1   \n",
       "4                 24K GOLD plated rose                  1   \n",
       "\n",
       "                                       category_name brand_name     price  \\\n",
       "0                              [Men, Tops, T-shirts]        NaN  2.397895   \n",
       "1  [Electronics, Computers & Tablets, Components ...      Razer  3.970292   \n",
       "2                    [Women, Tops & Blouses, Blouse]     Target  2.397895   \n",
       "3             [Home, Home Décor, Home Décor Accents]        NaN  3.583519   \n",
       "4                        [Women, Jewelry, Necklaces]        NaN  3.806662   \n",
       "\n",
       "   shipping                                   item_description  \n",
       "0         1                                 No description yet  \n",
       "1         0  This keyboard is in great condition and works ...  \n",
       "2         1  Adorable top with a hint of lace and a key hol...  \n",
       "3         1  New with tags. Leather horses. Retail for [rm]...  \n",
       "4         0          Complete with certificate of authenticity  "
      ]
     },
     "execution_count": 12,
     "metadata": {},
     "output_type": "execute_result"
    }
   ],
   "source": [
    "train.head()"
   ]
  },
  {
   "cell_type": "code",
   "execution_count": 13,
   "id": "8fb4484c",
   "metadata": {},
   "outputs": [],
   "source": [
    "# Making 3 Seperate Columns for the 3 categories\n",
    "\n",
    "# general category\n",
    "train['general_category'] = train['category_name'].apply(lambda x: x[0])\n",
    "# sub-category 1\n",
    "train['sub_category1'] = train['category_name'].apply(lambda x: x[1])\n",
    "# sub-category 2\n",
    "train['sub_category2'] = train['category_name'].apply(lambda x: x[2])\n",
    "train.drop('category_name', axis=1, inplace=True)"
   ]
  },
  {
   "cell_type": "code",
   "execution_count": 14,
   "id": "9baf420d",
   "metadata": {},
   "outputs": [],
   "source": [
    "# general category\n",
    "test['general_category'] = test['category_name'].apply(lambda x: x[0])\n",
    "# sub-category 1\n",
    "test['sub_category1'] = test['category_name'].apply(lambda x: x[1])\n",
    "# sub-category 2\n",
    "test['sub_category2'] = test['category_name'].apply(lambda x: x[2])\n",
    "test.drop('category_name', axis=1, inplace=True)"
   ]
  },
  {
   "cell_type": "code",
   "execution_count": 15,
   "id": "140b5fdb",
   "metadata": {},
   "outputs": [
    {
     "data": {
      "image/png": "[encoded data removed]",
      "text/plain": [
       "<Figure size 864x360 with 1 Axes>"
      ]
     },
     "metadata": {
      "needs_background": "light"
     },
     "output_type": "display_data"
    }
   ],
   "source": [
    "plt.figure(figsize=(12, 5))\n",
    "sns.countplot(x=train['general_category'],\n",
    "             order=train['general_category'].value_counts().index)\n",
    "plt.title('Count of Categories')\n",
    "plt.xticks(rotation=45,\n",
    "           horizontalalignment='right',\n",
    "           fontweight ='light',\n",
    "          )\n",
    "#plt.savefig('TopCats.jpg', bbox_inches=\"tight\")\n",
    "plt.show()"
   ]
  },
  {
   "cell_type": "code",
   "execution_count": 16,
   "id": "667e4be5",
   "metadata": {},
   "outputs": [
    {
     "data": {
      "image/png": "[encoded data removed]",
      "text/plain": [
       "<Figure size 864x360 with 1 Axes>"
      ]
     },
     "metadata": {
      "needs_background": "light"
     },
     "output_type": "display_data"
    }
   ],
   "source": [
    "plt.figure(figsize=(12, 5))\n",
    "sns.boxplot(data=train, x='general_category', y='price', order=train['general_category'].value_counts().index)\n",
    "plt.title('Price Distribution by General Category')\n",
    "plt.xticks(rotation=45,\n",
    "           horizontalalignment='right',\n",
    "           fontweight ='light',\n",
    "          )\n",
    "#plt.savefig('PriceCats.jpg', bbox_inches=\"tight\")\n",
    "plt.show()"
   ]
  },
  {
   "cell_type": "markdown",
   "id": "4abd5be6",
   "metadata": {},
   "source": [
    "### Brand Names"
   ]
  },
  {
   "cell_type": "code",
   "execution_count": 17,
   "id": "8c72212e",
   "metadata": {},
   "outputs": [
    {
     "data": {
      "image/png": "[encoded data removed]",
      "text/plain": [
       "<Figure size 720x432 with 1 Axes>"
      ]
     },
     "metadata": {
      "needs_background": "light"
     },
     "output_type": "display_data"
    }
   ],
   "source": [
    "brand_df = train.groupby(['brand_name'])['name'].count().sort_values(ascending = False).head(10).reset_index()\n",
    "plt.figure(figsize=(10, 6))\n",
    "sns.barplot(x =brand_df['brand_name'],\n",
    "            y=brand_df['name'])\n",
    "plt.xticks(rotation=45,\n",
    "           horizontalalignment='right',\n",
    "           fontweight ='light',\n",
    "          )\n",
    "plt.show()"
   ]
  },
  {
   "cell_type": "markdown",
   "id": "11959858",
   "metadata": {},
   "source": [
    "### Item Condition"
   ]
  },
  {
   "cell_type": "code",
   "execution_count": 18,
   "id": "117cace9",
   "metadata": {},
   "outputs": [
    {
     "data": {
      "image/png": "[encoded data removed]",
      "text/plain": [
       "<Figure size 720x432 with 1 Axes>"
      ]
     },
     "metadata": {
      "needs_background": "light"
     },
     "output_type": "display_data"
    }
   ],
   "source": [
    "plt.figure(figsize=(10, 6))\n",
    "sns.countplot(x=train['item_condition_id'])\n",
    "plt.show()"
   ]
  },
  {
   "cell_type": "code",
   "execution_count": 19,
   "id": "b5607e03",
   "metadata": {},
   "outputs": [],
   "source": [
    "# Attempting to fill the missing brand names using the name of the product\n",
    "\n",
    "# Making all columns lower case for uniformity\n",
    "train['name'] = train.name.str.lower()\n",
    "train['brand_name'] = train.brand_name.str.lower()\n",
    "test['name'] = test.name.str.lower()\n",
    "test['brand_name'] = test.brand_name.str.lower()\n",
    "\n",
    "# Building a full list of brands\n",
    "full_set = pd.concat([train,test])\n",
    "all_brands = set(full_set['brand_name'].values)\n",
    "\n",
    "# Filling the null brands with 'missing'\n",
    "train.brand_name.fillna(value=\"missing\", inplace=True)\n",
    "test.brand_name.fillna(value=\"missing\", inplace=True)"
   ]
  },
  {
   "cell_type": "code",
   "execution_count": 20,
   "id": "dd6f6d76",
   "metadata": {},
   "outputs": [],
   "source": [
    "def brandfinder(brand_and_name):\n",
    "    brand = brand_and_name[0]\n",
    "    name = brand_and_name[1]\n",
    "    namesplit = name.split(' ')\n",
    "    if brand == 'missing':\n",
    "        for x in namesplit:\n",
    "            if x in all_brands:\n",
    "                return name\n",
    "    if name in all_brands:\n",
    "        return name\n",
    "    return brand"
   ]
  },
  {
   "cell_type": "code",
   "execution_count": 21,
   "id": "2ecee7a4",
   "metadata": {},
   "outputs": [
    {
     "name": "stdout",
     "output_type": "stream",
     "text": [
      "Filled 250910 missing values.\n"
     ]
    }
   ],
   "source": [
    "premissing = len(train.loc[train['brand_name'] == 'missing'])\n",
    "train['brand_name'] = train[['brand_name','name']].apply(brandfinder, axis = 1)\n",
    "test['brand_name'] = test[['brand_name','name']].apply(brandfinder, axis = 1)\n",
    "found = premissing-len(train.loc[train['brand_name'] == 'missing'])\n",
    "print(f'Filled {found} missing values.')"
   ]
  },
  {
   "cell_type": "code",
   "execution_count": 22,
   "id": "fdadb9d3",
   "metadata": {},
   "outputs": [],
   "source": [
    "# Filling Null Descriptions with missing\n",
    "train['item_description'].fillna('missing', inplace=True)\n",
    "\n",
    "test['item_description'].fillna('missing', inplace=True)"
   ]
  },
  {
   "cell_type": "code",
   "execution_count": 23,
   "id": "de274d71",
   "metadata": {},
   "outputs": [
    {
     "data": {
      "text/html": [
       "<div>\n",
       "<style scoped>\n",
       "    .dataframe tbody tr th:only-of-type {\n",
       "        vertical-align: middle;\n",
       "    }\n",
       "\n",
       "    .dataframe tbody tr th {\n",
       "        vertical-align: top;\n",
       "    }\n",
       "\n",
       "    .dataframe thead th {\n",
       "        text-align: right;\n",
       "    }\n",
       "</style>\n",
       "<table border=\"1\" class=\"dataframe\">\n",
       "  <thead>\n",
       "    <tr style=\"text-align: right;\">\n",
       "      <th></th>\n",
       "      <th>name</th>\n",
       "      <th>item_condition_id</th>\n",
       "      <th>brand_name</th>\n",
       "      <th>price</th>\n",
       "      <th>shipping</th>\n",
       "      <th>item_description</th>\n",
       "      <th>general_category</th>\n",
       "      <th>sub_category1</th>\n",
       "      <th>sub_category2</th>\n",
       "    </tr>\n",
       "  </thead>\n",
       "  <tbody>\n",
       "    <tr>\n",
       "      <th>0</th>\n",
       "      <td>mlb cincinnati reds t shirt size xl</td>\n",
       "      <td>3</td>\n",
       "      <td>mlb cincinnati reds t shirt size xl</td>\n",
       "      <td>2.397895</td>\n",
       "      <td>1</td>\n",
       "      <td>No description yet</td>\n",
       "      <td>Men</td>\n",
       "      <td>Tops</td>\n",
       "      <td>T-shirts</td>\n",
       "    </tr>\n",
       "    <tr>\n",
       "      <th>1</th>\n",
       "      <td>razer blackwidow chroma keyboard</td>\n",
       "      <td>3</td>\n",
       "      <td>razer</td>\n",
       "      <td>3.970292</td>\n",
       "      <td>0</td>\n",
       "      <td>This keyboard is in great condition and works ...</td>\n",
       "      <td>Electronics</td>\n",
       "      <td>Computers &amp; Tablets</td>\n",
       "      <td>Components &amp; Parts</td>\n",
       "    </tr>\n",
       "    <tr>\n",
       "      <th>2</th>\n",
       "      <td>ava-viv blouse</td>\n",
       "      <td>1</td>\n",
       "      <td>target</td>\n",
       "      <td>2.397895</td>\n",
       "      <td>1</td>\n",
       "      <td>Adorable top with a hint of lace and a key hol...</td>\n",
       "      <td>Women</td>\n",
       "      <td>Tops &amp; Blouses</td>\n",
       "      <td>Blouse</td>\n",
       "    </tr>\n",
       "    <tr>\n",
       "      <th>3</th>\n",
       "      <td>leather horse statues</td>\n",
       "      <td>1</td>\n",
       "      <td>missing</td>\n",
       "      <td>3.583519</td>\n",
       "      <td>1</td>\n",
       "      <td>New with tags. Leather horses. Retail for [rm]...</td>\n",
       "      <td>Home</td>\n",
       "      <td>Home Décor</td>\n",
       "      <td>Home Décor Accents</td>\n",
       "    </tr>\n",
       "    <tr>\n",
       "      <th>4</th>\n",
       "      <td>24k gold plated rose</td>\n",
       "      <td>1</td>\n",
       "      <td>missing</td>\n",
       "      <td>3.806662</td>\n",
       "      <td>0</td>\n",
       "      <td>Complete with certificate of authenticity</td>\n",
       "      <td>Women</td>\n",
       "      <td>Jewelry</td>\n",
       "      <td>Necklaces</td>\n",
       "    </tr>\n",
       "  </tbody>\n",
       "</table>\n",
       "</div>"
      ],
      "text/plain": [
       "                                  name  item_condition_id  \\\n",
       "0  mlb cincinnati reds t shirt size xl                  3   \n",
       "1     razer blackwidow chroma keyboard                  3   \n",
       "2                       ava-viv blouse                  1   \n",
       "3                leather horse statues                  1   \n",
       "4                 24k gold plated rose                  1   \n",
       "\n",
       "                            brand_name     price  shipping  \\\n",
       "0  mlb cincinnati reds t shirt size xl  2.397895         1   \n",
       "1                                razer  3.970292         0   \n",
       "2                               target  2.397895         1   \n",
       "3                              missing  3.583519         1   \n",
       "4                              missing  3.806662         0   \n",
       "\n",
       "                                    item_description general_category  \\\n",
       "0                                 No description yet              Men   \n",
       "1  This keyboard is in great condition and works ...      Electronics   \n",
       "2  Adorable top with a hint of lace and a key hol...            Women   \n",
       "3  New with tags. Leather horses. Retail for [rm]...             Home   \n",
       "4          Complete with certificate of authenticity            Women   \n",
       "\n",
       "         sub_category1       sub_category2  \n",
       "0                 Tops            T-shirts  \n",
       "1  Computers & Tablets  Components & Parts  \n",
       "2       Tops & Blouses              Blouse  \n",
       "3           Home Décor  Home Décor Accents  \n",
       "4              Jewelry           Necklaces  "
      ]
     },
     "execution_count": 23,
     "metadata": {},
     "output_type": "execute_result"
    }
   ],
   "source": [
    "train.head()"
   ]
  },
  {
   "cell_type": "markdown",
   "id": "a1edcc02",
   "metadata": {},
   "source": [
    "### Pre-processing: Tf-idf"
   ]
  },
  {
   "cell_type": "markdown",
   "id": "e60864c6",
   "metadata": {},
   "source": [
    "Tf-idf is the acronym for Term Frequency–inverse Document Frequency. It quantifies the importance of a particular word in relative to the vocabulary of a collection of documents or corpus. The metric depends on two factors:\n",
    "\n",
    "- Term Frequency: the occurences of a word in a given document (i.e. bag of words)\n",
    "- Inverse Document Frequency: the reciprocal number of times a word occurs in a corpus of documents\n",
    "\n",
    "If the word is used extensively in all documents, its existence within a specific document will not be able to provide us much specific information about the document itself. Tf-idf can therefore, be seen as a weighting scheme for words relevancy in a specific document."
   ]
  },
  {
   "cell_type": "code",
   "execution_count": 24,
   "id": "f6daad3a",
   "metadata": {},
   "outputs": [],
   "source": [
    "def clean_text(text):\n",
    "    \"\"\"\n",
    "    Applies some pre-processing on the given text.\n",
    "    Steps :\n",
    "    - Removing punctuation\n",
    "    - Lowering text\n",
    "    \"\"\"\n",
    "\n",
    "    # remove the characters [\\], ['] and [\"] using the resub method:\n",
    "    text = re.sub(r'\\\\', '', text)\n",
    "    text = re.sub(r'\\\"', '', text)   \n",
    "    text = re.sub(r'\\'', '', text)    \n",
    "    \n",
    "    # convert text to lowercase\n",
    "    text = text.strip().lower()\n",
    "    \n",
    "    # replace punctuation characters with spaces\n",
    "    filters='!\"\\'#$%&()*+,-./:;<=>?@[\\\\]^_`{|}~\\t\\n'\n",
    "    translate_dict = dict((c, \" \") for c in filters)\n",
    "    translate_map = str.maketrans(translate_dict)\n",
    "    text = text.translate(translate_map)\n",
    "\n",
    "    return text\n",
    "\n",
    "def tfidf(col, ngram):\n",
    "    \"\"\"Applies the Tf-idf Vectorizer to the specified column.\"\"\"\n",
    "    tfidf = TfidfVectorizer(stop_words=\"english\",\n",
    "                           preprocessor=clean_text,\n",
    "                           ngram_range=ngram)\n",
    "    traintfidf = tfidf.fit_transform(train[col])\n",
    "    testtfidf = tfidf.transform(test[col])\n",
    "    \n",
    "    return traintfidf, testtfidf"
   ]
  },
  {
   "cell_type": "code",
   "execution_count": 25,
   "id": "68b54c8a",
   "metadata": {},
   "outputs": [],
   "source": [
    "# Applying the Tf-idf Vectorizer to the name, brand name and item description columns\n",
    "\n",
    "train_brand, test_brand = tfidf('brand_name', (1, 2))\n",
    "train_des, test_des = tfidf('item_description', (1, 2))\n",
    "train_name, test_name = tfidf('name', (1, 2))"
   ]
  },
  {
   "cell_type": "code",
   "execution_count": 26,
   "id": "6bbbe695",
   "metadata": {},
   "outputs": [],
   "source": [
    "def labelbinarizer(col):\n",
    "    \"\"\"Applies Label Binarizer to the specified column\"\"\"\n",
    "    lb = LabelBinarizer(sparse_output=True)\n",
    "    trainrestultcol = lb.fit_transform(train[col])\n",
    "    testrestultscol = lb.transform(test[col])\n",
    "    \n",
    "    return trainrestultcol, testrestultscol"
   ]
  },
  {
   "cell_type": "code",
   "execution_count": 27,
   "id": "f9e499c0",
   "metadata": {},
   "outputs": [],
   "source": [
    "# Applying the label binarizer to the categories, shipping and item condition\n",
    "\n",
    "train_cat_1, test_cat_1 = labelbinarizer('general_category')\n",
    "train_cat_2, test_cat_2 = labelbinarizer('sub_category1')\n",
    "train_subcat_2, test_subcat_2 = labelbinarizer('sub_category2')\n",
    "train_shipping, test_shipping = labelbinarizer('shipping')\n",
    "train_condition, test_condition = labelbinarizer('item_condition_id')"
   ]
  },
  {
   "cell_type": "code",
   "execution_count": 28,
   "id": "7d71df9c",
   "metadata": {},
   "outputs": [],
   "source": [
    "# Merging all the features into one\n",
    "\n",
    "train_features = (train_des, train_brand, train_name, train_cat_1, train_cat_2, \n",
    "                  train_subcat_2, train_shipping, train_condition)\n",
    "\n",
    "train_features = hstack(train_features).tocsr()\n",
    "\n",
    "del train_des, train_brand, train_name, train_cat_1, train_cat_2, train_subcat_2, train_shipping, train_condition\n",
    "\n",
    "test_features = (test_des, test_brand, test_name, test_cat_1, test_cat_2, \n",
    "                  test_subcat_2, test_shipping, test_condition)\n",
    "\n",
    "test_features = hstack(test_features).tocsr()\n",
    "\n",
    "del test_name, test_des, test_brand, test_cat_1, test_cat_2, test_subcat_2, test_shipping, test_condition"
   ]
  },
  {
   "cell_type": "markdown",
   "id": "944eb6e1",
   "metadata": {},
   "source": [
    "### Evaluation Metric"
   ]
  },
  {
   "cell_type": "markdown",
   "id": "a70dbc5a",
   "metadata": {},
   "source": [
    "We will evaluate our results using Root Mean Squared Log Error (RMSLE) as shown below:"
   ]
  },
  {
   "cell_type": "markdown",
   "id": "3efcb9a3",
   "metadata": {},
   "source": [
    "$\\sqrt{ \\frac{1}{n} \\sum \\limits _{i=1} ^{n} (log(y_{i} + 1) - \\hat{(y_{i}}+1))^2}$"
   ]
  },
  {
   "cell_type": "code",
   "execution_count": 29,
   "id": "56248efa",
   "metadata": {},
   "outputs": [],
   "source": [
    "def rmsle(y, y_pred):\n",
    "    return np.sqrt(np.mean(np.power(np.log1p(y) - np.log1p(y_pred), 2)))\n",
    "\n",
    "def evaluate(y, y_pred):\n",
    "    return rmsle(np.expm1(y), np.expm1(y_pred))"
   ]
  },
  {
   "cell_type": "markdown",
   "id": "6c5b29c3",
   "metadata": {},
   "source": [
    "### Training and Testing"
   ]
  },
  {
   "cell_type": "code",
   "execution_count": 31,
   "id": "5903f97c",
   "metadata": {},
   "outputs": [],
   "source": [
    "X = train_features\n",
    "y = train['price']\n",
    "X_train, X_test, y_train, y_test = train_test_split(X, y, test_size=0.1, random_state=42)"
   ]
  },
  {
   "cell_type": "markdown",
   "id": "0d127f18",
   "metadata": {},
   "source": [
    "#### Ridge Regression"
   ]
  },
  {
   "cell_type": "code",
   "execution_count": 32,
   "id": "4abd8d2d",
   "metadata": {},
   "outputs": [
    {
     "name": "stdout",
     "output_type": "stream",
     "text": [
      "Wall time: 14min 16s\n",
      "RMSLE Ridge: 0.4467855042277821\n"
     ]
    }
   ],
   "source": [
    "ridge = Ridge(solver='auto', fit_intercept=True, alpha=4.2, max_iter=200)\n",
    "%time ridge.fit(X_train, y_train)\n",
    "\n",
    "rmsle_Ridge = evaluate(y_test, ridge.predict(X_test))\n",
    "print(f'RMSLE Ridge: {rmsle_Ridge}')"
   ]
  },
  {
   "cell_type": "markdown",
   "id": "a2f0d242",
   "metadata": {},
   "source": [
    "####  Linear Regression"
   ]
  },
  {
   "cell_type": "code",
   "execution_count": 33,
   "id": "7eeb4491",
   "metadata": {},
   "outputs": [
    {
     "name": "stdout",
     "output_type": "stream",
     "text": [
      "Wall time: 20.4 s\n",
      "RMSLE SGD: 0.5179761848091751\n"
     ]
    }
   ],
   "source": [
    "SGD = SGDRegressor(loss=\"squared_loss\",alpha=1e-8,fit_intercept=True)\n",
    "%time SGD.fit(X_train, y_train)\n",
    "\n",
    "rmsle_SGD = evaluate(y_test, SGD.predict(X_test))\n",
    "print(f'RMSLE SGD: {rmsle_SGD}')"
   ]
  },
  {
   "cell_type": "markdown",
   "id": "a7e1ff28",
   "metadata": {},
   "source": [
    "#### Support Vector Regression"
   ]
  },
  {
   "cell_type": "code",
   "execution_count": 34,
   "id": "6a437c14",
   "metadata": {},
   "outputs": [
    {
     "name": "stdout",
     "output_type": "stream",
     "text": [
      "Wall time: 23.9 s\n",
      "RMSLE SVR: 0.509244450496683\n"
     ]
    }
   ],
   "source": [
    "SVR = SGDRegressor(loss=\"epsilon_insensitive\",alpha = 0.000001,fit_intercept=True)\n",
    "%time SVR.fit(X_train, y_train)\n",
    "\n",
    "rmsle_SVR = evaluate(y_test, SVR.predict(X_test))\n",
    "print(f'RMSLE SVR: {rmsle_SVR}')"
   ]
  },
  {
   "cell_type": "markdown",
   "id": "d48918d9",
   "metadata": {},
   "source": [
    "Although the Ridge Regressor took the longest, it had (by 0.05) the lowest RMSLE. The additional computational time is therefore worth it, and will be the choice of the final model."
   ]
  },
  {
   "cell_type": "markdown",
   "id": "d380bbe4",
   "metadata": {},
   "source": [
    "### Preparing the Final Submission"
   ]
  },
  {
   "cell_type": "code",
   "execution_count": 35,
   "id": "4cd5b62f",
   "metadata": {},
   "outputs": [
    {
     "data": {
      "text/plain": [
       "array([2.35357089, 2.39297032, 3.98685492, ..., 2.79585485, 3.00734183,\n",
       "       3.12866511])"
      ]
     },
     "execution_count": 35,
     "metadata": {},
     "output_type": "execute_result"
    }
   ],
   "source": [
    "X_test = test_features\n",
    "preds = ridge.predict(X_test)\n",
    "preds"
   ]
  },
  {
   "cell_type": "code",
   "execution_count": 36,
   "id": "4449a59a",
   "metadata": {},
   "outputs": [
    {
     "data": {
      "text/html": [
       "<div>\n",
       "<style scoped>\n",
       "    .dataframe tbody tr th:only-of-type {\n",
       "        vertical-align: middle;\n",
       "    }\n",
       "\n",
       "    .dataframe tbody tr th {\n",
       "        vertical-align: top;\n",
       "    }\n",
       "\n",
       "    .dataframe thead th {\n",
       "        text-align: right;\n",
       "    }\n",
       "</style>\n",
       "<table border=\"1\" class=\"dataframe\">\n",
       "  <thead>\n",
       "    <tr style=\"text-align: right;\">\n",
       "      <th></th>\n",
       "      <th>test_id</th>\n",
       "      <th>price</th>\n",
       "    </tr>\n",
       "  </thead>\n",
       "  <tbody>\n",
       "    <tr>\n",
       "      <th>0</th>\n",
       "      <td>0</td>\n",
       "      <td>10.523079</td>\n",
       "    </tr>\n",
       "    <tr>\n",
       "      <th>1</th>\n",
       "      <td>1</td>\n",
       "      <td>10.945959</td>\n",
       "    </tr>\n",
       "    <tr>\n",
       "      <th>2</th>\n",
       "      <td>2</td>\n",
       "      <td>53.885149</td>\n",
       "    </tr>\n",
       "    <tr>\n",
       "      <th>3</th>\n",
       "      <td>3</td>\n",
       "      <td>14.307272</td>\n",
       "    </tr>\n",
       "    <tr>\n",
       "      <th>4</th>\n",
       "      <td>4</td>\n",
       "      <td>9.162278</td>\n",
       "    </tr>\n",
       "  </tbody>\n",
       "</table>\n",
       "</div>"
      ],
      "text/plain": [
       "   test_id      price\n",
       "0        0  10.523079\n",
       "1        1  10.945959\n",
       "2        2  53.885149\n",
       "3        3  14.307272\n",
       "4        4   9.162278"
      ]
     },
     "execution_count": 36,
     "metadata": {},
     "output_type": "execute_result"
    }
   ],
   "source": [
    "submission = pd.DataFrame(np.exp(preds))\n",
    "submission.reset_index(inplace=True)\n",
    "submission.columns = ['test_id', 'price']\n",
    "submission.head()"
   ]
  },
  {
   "cell_type": "code",
   "execution_count": null,
   "id": "66e9da9d",
   "metadata": {},
   "outputs": [],
   "source": [
    "#submission.to_csv('submission.csv', index=False)"
   ]
  }
 ],
 "metadata": {
  "kernelspec": {
   "display_name": "Python 3",
   "language": "python",
   "name": "python3"
  },
  "language_info": {
   "codemirror_mode": {
    "name": "ipython",
    "version": 3
   },
   "file_extension": ".py",
   "mimetype": "text/x-python",
   "name": "python",
   "nbconvert_exporter": "python",
   "pygments_lexer": "ipython3",
   "version": "3.7.10"
  }
 },
 "nbformat": 4,
 "nbformat_minor": 5
}
